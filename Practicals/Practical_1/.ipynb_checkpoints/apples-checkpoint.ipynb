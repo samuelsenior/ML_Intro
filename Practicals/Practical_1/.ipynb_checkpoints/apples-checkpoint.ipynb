{
 "cells": [
  {
   "cell_type": "markdown",
   "metadata": {},
   "source": [
    "# Practical 1.1 - Apples & Oranges"
   ]
  },
  {
   "cell_type": "markdown",
   "metadata": {},
   "source": [
    "In Machine Learning, we're going to start nice and simple. For our first Machine Learning algorithm, we're going to create a problem and then solve it. Let's say we have some apples and oranges; not images, just textual descriptions about them, such as weight and texture. Using this information, and some previous data which we already know the answer to (i.e we know a fruit weighing 140 grams and is 'smooth' is an orange), can we predict the type of fruit if we give the classifier some textual information describing a piece of fruit?"
   ]
  },
  {
   "cell_type": "code",
   "execution_count": null,
   "metadata": {
    "collapsed": false
   },
   "outputs": [],
   "source": [
    "import numpy as np\n",
    "from sklearn import tree\n",
    "import pydotplus\n",
    "import io"
   ]
  },
  {
   "cell_type": "markdown",
   "metadata": {},
   "source": [
    "Here, let's define some textual information regarding our pieces of fruit. We'll label this as our $X$ matrix; the features. This is how we are formatting our information (indexing starting from 0):\n",
    "* index 0: weight of the fruit in grams\n",
    "* index 1: texture of the fruit, represented in binary, with 0 = bumpy, 1 = smooth."
   ]
  },
  {
   "cell_type": "code",
   "execution_count": null,
   "metadata": {
    "collapsed": true
   },
   "outputs": [],
   "source": [
    "X = features = np.array([[140, 1], [130, 1], [150, 0], [170, 0], [145, 1], [155, 0],\n",
    "               [152, 1], [175, 0]])"
   ]
  },
  {
   "cell_type": "markdown",
   "metadata": {},
   "source": [
    "And now we'll define the corresponding $y$ vector; the labels. Our label information is represented as:\n",
    "* 0: apple\n",
    "* 1: orange"
   ]
  },
  {
   "cell_type": "code",
   "execution_count": null,
   "metadata": {
    "collapsed": true
   },
   "outputs": [],
   "source": [
    "y = labels = np.array([0, 0, 1, 1, 0, 1, 0, 1])"
   ]
  },
  {
   "cell_type": "markdown",
   "metadata": {},
   "source": [
    "Feel free to add some extra data items into $X$ and $y$ if you wish, or you could introduce a new column (3 pieces of information in features). Now let's create our first classifier and fit it to our small dataset:"
   ]
  },
  {
   "cell_type": "code",
   "execution_count": null,
   "metadata": {
    "collapsed": false
   },
   "outputs": [],
   "source": [
    "clf = tree.DecisionTreeClassifier()\n",
    "clf.fit(features, labels)"
   ]
  },
  {
   "cell_type": "markdown",
   "metadata": {},
   "source": [
    "Now we have a classifier and it has been trained on our dataset. Now we will introduce a new piece of fruit and see if our classifier can accurately predict it."
   ]
  },
  {
   "cell_type": "code",
   "execution_count": null,
   "metadata": {
    "collapsed": false
   },
   "outputs": [],
   "source": [
    "# the only reason we reshape it is to remove a warning message regarding ski-kit learn.\n",
    "X_fruit = np.array([125, 1]).reshape(1, -1)\n",
    "guess = clf.predict(X_fruit)\n",
    "if guess == 0:\n",
    "    print(\"We predict an apple!\")\n",
    "elif guess == 1:\n",
    "    print(\"We predict an orange!\")"
   ]
  },
  {
   "cell_type": "markdown",
   "metadata": {},
   "source": [
    "This should make sense if we look at our features; most of the 'smooth (1)' featured samples are apples in our dataset, therefore this would be a strong indicator that our test fruit is an apple. In addition, our fruit is particularly light compared to our data samples, and a comparison of the features to their respective labels shows a general trend that heavier fruit is classified as oranges, whereas the lighter samples tend to be apples. "
   ]
  },
  {
   "cell_type": "markdown",
   "metadata": {},
   "source": [
    "## Task 1"
   ]
  },
  {
   "cell_type": "markdown",
   "metadata": {},
   "source": [
    "Try out your examples by creating fitting the classifier on the dataset above or one of your own. "
   ]
  },
  {
   "cell_type": "code",
   "execution_count": null,
   "metadata": {
    "collapsed": true
   },
   "outputs": [],
   "source": [
    "# your code here"
   ]
  },
  {
   "cell_type": "markdown",
   "metadata": {},
   "source": [
    "## Viewing the Decision Tree\n",
    "\n",
    "You should be able to see the 'tree.png' file in the directory of this notebook."
   ]
  },
  {
   "cell_type": "code",
   "execution_count": null,
   "metadata": {
    "collapsed": false
   },
   "outputs": [],
   "source": [
    "dot_data = io.StringIO()\n",
    "tree.export_graphviz(clf, out_file=dot_data, feature_names=['Weight',\n",
    "                                                           'Texture'])\n",
    "graph = pydotplus.graph_from_dot_data(dot_data.getvalue())\n",
    "graph.write_png('tree.png')"
   ]
  }
 ],
 "metadata": {
  "anaconda-cloud": {},
  "kernelspec": {
   "display_name": "Python [Root]",
   "language": "python",
   "name": "Python [Root]"
  },
  "language_info": {
   "codemirror_mode": {
    "name": "ipython",
    "version": 3
   },
   "file_extension": ".py",
   "mimetype": "text/x-python",
   "name": "python",
   "nbconvert_exporter": "python",
   "pygments_lexer": "ipython3",
   "version": "3.5.2"
  }
 },
 "nbformat": 4,
 "nbformat_minor": 0
}
