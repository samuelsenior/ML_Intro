{
 "cells": [
  {
   "cell_type": "markdown",
   "metadata": {},
   "source": [
    "# Solutions to Practical 1.2 - Iris Classification"
   ]
  },
  {
   "cell_type": "markdown",
   "metadata": {},
   "source": [
    "Here we are continuing with using basic classifiers, except this time we are working with a famous external dataset: the Iris Dataset, developed by Fisher. "
   ]
  },
  {
   "cell_type": "code",
   "execution_count": null,
   "metadata": {
    "collapsed": true
   },
   "outputs": [],
   "source": [
    "import numpy as np\n",
    "from sklearn import datasets\n",
    "from sklearn.model_selection import train_test_split\n",
    "from sklearn import tree\n",
    "from sklearn.metrics import accuracy_score\n",
    "from sklearn.neighbors import KNeighborsClassifier"
   ]
  },
  {
   "cell_type": "markdown",
   "metadata": {},
   "source": [
    "Here we import the Iris dataset. We see that the features $X$ are a 4-column matrix with all continuous data as the sepal and petal length and width. The y labels are a number [0, 1, 2] representing the associated species with the measurements. You can look up the finer details, in addition to a full view of the entire dataset here: (https://en.wikipedia.org/wiki/Iris_flower_data_set)."
   ]
  },
  {
   "cell_type": "code",
   "execution_count": null,
   "metadata": {
    "collapsed": false
   },
   "outputs": [],
   "source": [
    "iris = datasets.load_iris()\n",
    "X = iris.data\n",
    "y = iris.target\n",
    "print(\"First 5 rows of features: {}\".format(X[0:5]))\n",
    "print(\"First 5 rows of labels: {}\".format(y[0:5]))"
   ]
  },
  {
   "cell_type": "markdown",
   "metadata": {},
   "source": [
    "And the size of the dataset:"
   ]
  },
  {
   "cell_type": "code",
   "execution_count": null,
   "metadata": {
    "collapsed": false
   },
   "outputs": [],
   "source": [
    "print(\"Feature size: {}\".format(X.shape))\n",
    "print(\"Label size: {}\".format(y.shape))"
   ]
  },
  {
   "cell_type": "markdown",
   "metadata": {},
   "source": [
    "## Example 1\n",
    "\n",
    "In this example we're going to select a few random indices out of 150, remove them from the dataset and use them as our test samples. The rest of the data, we will give to the classifier to train on the set. "
   ]
  },
  {
   "cell_type": "code",
   "execution_count": null,
   "metadata": {
    "collapsed": false
   },
   "outputs": [],
   "source": [
    "nIndices = 4\n",
    "test_idx = np.random.randint(0,150,nIndices)\n",
    "# ensure the test indices are unique\n",
    "test_idx = np.unique(test_idx)\n",
    "\n",
    "train_X = np.delete(iris.data, test_idx, axis=0)\n",
    "train_y = np.delete(iris.target, test_idx, axis=0)"
   ]
  },
  {
   "cell_type": "markdown",
   "metadata": {},
   "source": [
    "Now we will formulate our test features."
   ]
  },
  {
   "cell_type": "code",
   "execution_count": null,
   "metadata": {
    "collapsed": true
   },
   "outputs": [],
   "source": [
    "test_X = iris.data[test_idx]\n",
    "test_y = iris.target[test_idx]"
   ]
  },
  {
   "cell_type": "markdown",
   "metadata": {},
   "source": [
    "Now we have our training and testing sets, lets create and fit our classifier using the training data."
   ]
  },
  {
   "cell_type": "code",
   "execution_count": null,
   "metadata": {
    "collapsed": false
   },
   "outputs": [],
   "source": [
    "clf = tree.DecisionTreeClassifier()\n",
    "clf.fit(train_X, train_y)"
   ]
  },
  {
   "cell_type": "markdown",
   "metadata": {},
   "source": [
    "Now lets test our classifier on the training data."
   ]
  },
  {
   "cell_type": "code",
   "execution_count": null,
   "metadata": {
    "collapsed": false
   },
   "outputs": [],
   "source": [
    "print(test_y)\n",
    "print(clf.predict(test_X))"
   ]
  },
  {
   "cell_type": "markdown",
   "metadata": {},
   "source": [
    "For all the examples, we see that the classifier appears to be reliably predicting the correct species, given the dataset."
   ]
  },
  {
   "cell_type": "markdown",
   "metadata": {},
   "source": [
    "## Example 2\n",
    "\n",
    "In the above example, we generate some random integers to act as the indices which select which rows to use as test samples, leaving the majority as training data for the classifier. This practice is so common in Machine Learning there is an infinity-valued function called 'train_test_split' which takes the $X$ and $y$ and returns X_train, X_test, y_train and y_test with optimised splitting. Implement the iris dataset using the train_test_split function.\n",
    "\n",
    "The package you will need is from sklearn.model_selection.\n",
    "\n",
    "Look up the function from the Ski-Kit Learn documentation and use it to generate your training and testing data. Try with 50/50 split, 75/25 and 90/10 (training/testing, respectively) and see which one has the highest accuracy.\n",
    "\n",
    "You can test which one has the highest accuracy using a quantitative scoring function called 'accuracy_score' which is already given. This can be used by giving it the y_test data and the information returned from your classifiers' predict() method. It will return a percentage, where 100% is perfect prediction with all test samples. "
   ]
  },
  {
   "cell_type": "code",
   "execution_count": null,
   "metadata": {
    "collapsed": false
   },
   "outputs": [],
   "source": [
    "classifier = tree.DecisionTreeClassifier()\n",
    "\n",
    "# 50/50\n",
    "X_train, X_test, y_train, y_test = train_test_split(X, y, test_size = 0.5)\n",
    "classifier.fit(X_train, y_train)\n",
    "accuracy = accuracy_score(y_test, classifier.predict(X_test))\n",
    "print(\"Decision Tree Accuracy with 50/50: {}\".format(accuracy))\n",
    "\n",
    "#75/25\n",
    "X_train, X_test, y_train, y_test = train_test_split(X, y, test_size = 0.25)\n",
    "classifier.fit(X_train, y_train)\n",
    "accuracy = accuracy_score(y_test, classifier.predict(X_test))\n",
    "print(\"Decision Tree Accuracy with 75/25: {}\".format(accuracy))\n",
    "\n",
    "#90/10\n",
    "X_train, X_test, y_train, y_test = train_test_split(X, y, test_size = 0.1)\n",
    "classifier.fit(X_train, y_train)\n",
    "accuracy = accuracy_score(y_test, classifier.predict(X_test))\n",
    "print(\"Decision Tree Accuracy with 90/10: {}\".format(accuracy))"
   ]
  },
  {
   "cell_type": "markdown",
   "metadata": {},
   "source": [
    "As we can see the accuracy generally goes up the more training samples we have. Run it a few times to see the values change slightly. "
   ]
  },
  {
   "cell_type": "markdown",
   "metadata": {},
   "source": [
    "## Example 3"
   ]
  },
  {
   "cell_type": "markdown",
   "metadata": {},
   "source": [
    "Using the same dataset, use a different classifier than the Decision Tree. We recommend using\n",
    "the K Nearest Neighbours classifier.\n",
    "\n",
    "The import package you want for this is 'sklearn.neighbors'.\n",
    "\n",
    "Again, check out the documentation for this classifier on the website and implement it; the code is remarkably similar to the previous example. \n",
    "\n",
    "Once you have it working, compare the results to the Decision Tree classifier; is there much of a difference? Which is better? What are the advantages and disadvantages of each of the algorithms?"
   ]
  },
  {
   "cell_type": "code",
   "execution_count": null,
   "metadata": {
    "collapsed": false
   },
   "outputs": [],
   "source": [
    "classifier2 = KNeighborsClassifier()\n",
    "\n",
    "X_train, X_test, y_train, y_test = train_test_split(X, y, test_size = 0.5)\n",
    "classifier2.fit(X_train, y_train)\n",
    "accuracy = accuracy_score(y_test, classifier2.predict(X_test))\n",
    "print(\"K-Nearest Neighbours Accuracy with 50/50: {}\".format(accuracy))\n",
    "\n",
    "X_train, X_test, y_train, y_test = train_test_split(X, y, test_size = 0.25)\n",
    "classifier2.fit(X_train, y_train)\n",
    "accuracy = accuracy_score(y_test, classifier2.predict(X_test))\n",
    "print(\"K-Nearest Neighbours Accuracy with 75/25: {}\".format(accuracy))\n",
    "\n",
    "X_train, X_test, y_train, y_test = train_test_split(X, y, test_size = 0.1)\n",
    "classifier2.fit(X_train, y_train)\n",
    "accuracy = accuracy_score(y_test, classifier2.predict(X_test))\n",
    "print(\"K-Nearest Neighbours Accuracy with 90/10: {}\".format(accuracy))"
   ]
  },
  {
   "cell_type": "markdown",
   "metadata": {},
   "source": [
    "Some slightly strange output which changes every time you run it. Sometimes the lower splits are more accurate than 90/10. Figure out why!"
   ]
  },
  {
   "cell_type": "markdown",
   "metadata": {},
   "source": [
    "## Example 4 - Optional\n",
    "\n",
    "Using what you have learnt from this dataset, apply it to another dataset.\n",
    "\n",
    "Go to http://scikit-learn.org/stable/datasets/ and select the load_digits() dataset as it is also a classification problem. Select the diabetes dataset if you really want a challenge!\n",
    "\n",
    "Like the iris dataset, these sets can also be retrieved through the sklearn.datasets class by one simple function call."
   ]
  },
  {
   "cell_type": "code",
   "execution_count": null,
   "metadata": {
    "collapsed": false
   },
   "outputs": [],
   "source": [
    "digits = datasets.load_digits()\n",
    "X = digits.data\n",
    "y = digits.target\n",
    "\n",
    "print(X)\n",
    "print(y)"
   ]
  },
  {
   "cell_type": "markdown",
   "metadata": {},
   "source": [
    "We learn from the website that the data is represented as 64 columns, where each column is a number between [0, 16] that describes a pixel in an 8x8 grid to draw one of the 9 numerical characters. In this dataset we have 1797 total characters. This is the beginning of image classification which we will touch on in a later practical. "
   ]
  },
  {
   "cell_type": "code",
   "execution_count": null,
   "metadata": {
    "collapsed": false
   },
   "outputs": [],
   "source": [
    "from matplotlib import pyplot as plt\n",
    "plt.figure()\n",
    "plt.imshow(digits.images[-1], cmap=plt.cm.gray_r, interpolation='nearest')\n",
    "plt.show()"
   ]
  },
  {
   "cell_type": "code",
   "execution_count": null,
   "metadata": {
    "collapsed": false
   },
   "outputs": [],
   "source": [
    "X.shape"
   ]
  },
  {
   "cell_type": "code",
   "execution_count": null,
   "metadata": {
    "collapsed": false
   },
   "outputs": [],
   "source": [
    "print(X.max(), X.min())"
   ]
  },
  {
   "cell_type": "code",
   "execution_count": null,
   "metadata": {
    "collapsed": false
   },
   "outputs": [],
   "source": [
    "for i in range(1, 10):\n",
    "    X_train, X_test, y_train, y_test = train_test_split(X, y, test_size = i/10)\n",
    "    classifier = tree.DecisionTreeClassifier()\n",
    "    classifier.fit(X_train, y_train)\n",
    "    predictions = accuracy_score(y_test, classifier.predict(X_test))\n",
    "    print(\"Test size {}, Prediction {}\".format((i/10),predictions))"
   ]
  },
  {
   "cell_type": "code",
   "execution_count": null,
   "metadata": {
    "collapsed": false
   },
   "outputs": [],
   "source": [
    "for i in range(1, 10):\n",
    "    X_train, X_test, y_train, y_test = train_test_split(X, y, test_size = i/10)\n",
    "    classifier = KNeighborsClassifier()\n",
    "    classifier.fit(X_train, y_train)\n",
    "    predictions = accuracy_score(y_test, classifier.predict(X_test))\n",
    "    print(\"Test size {}, Prediction {}\".format((i/10),predictions))"
   ]
  },
  {
   "cell_type": "markdown",
   "metadata": {},
   "source": [
    "As you can see the K Neighbours algorithm is much better in this example. We could also use more advanced classifiers such as Random Forests. We won't touch on these in this seminar. "
   ]
  }
 ],
 "metadata": {
  "anaconda-cloud": {},
  "kernelspec": {
   "display_name": "Python [conda root]",
   "language": "python",
   "name": "conda-root-py"
  },
  "language_info": {
   "codemirror_mode": {
    "name": "ipython",
    "version": 3
   },
   "file_extension": ".py",
   "mimetype": "text/x-python",
   "name": "python",
   "nbconvert_exporter": "python",
   "pygments_lexer": "ipython3",
   "version": "3.5.2"
  }
 },
 "nbformat": 4,
 "nbformat_minor": 0
}
