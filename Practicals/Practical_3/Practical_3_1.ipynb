{
 "cells": [
  {
   "cell_type": "markdown",
   "metadata": {},
   "source": [
    "# Image Classification with Tensor Flow"
   ]
  },
  {
   "cell_type": "code",
   "execution_count": null,
   "metadata": {
    "collapsed": false
   },
   "outputs": [],
   "source": [
    "# Don't touch this! Honesly, please don't. It's there to make a variable of the path of the directory this Notepad\n",
    "# is found in so that cells below can be run again and again without have to restart the kernal every time.\n",
    "rootdir = % pwd"
   ]
  },
  {
   "cell_type": "markdown",
   "metadata": {},
   "source": [
    "## Test TensorFlow"
   ]
  },
  {
   "cell_type": "code",
   "execution_count": null,
   "metadata": {
    "collapsed": false
   },
   "outputs": [],
   "source": [
    "import tensorflow as tf\n",
    "hello = tf.constant('Hello, TensorFlow!')\n",
    "sess = tf.Session()\n",
    "print(sess.run(hello))"
   ]
  },
  {
   "cell_type": "markdown",
   "metadata": {},
   "source": [
    "## Downloading required files\n",
    "\n",
    "The script below downloads the flower photos, extracts them, downloads the tensorflow training code, and the label image Python script. If any of those already exist in the expected directory then they are not downloaded or extracted as they are alreay present.\n",
    "\n",
    "Note that the label_image.py Python script needs to lines of code changing to work in the Jupyter Notebook (any filepath starting with a \"/\" needs to have that starting \"/\" removed)."
   ]
  },
  {
   "cell_type": "code",
   "execution_count": null,
   "metadata": {
    "collapsed": false
   },
   "outputs": [],
   "source": [
    "% cd $rootdir\n",
    "import os.path\n",
    "\n",
    "#Retrieving some images - For this example we will this set of images\n",
    "if not os.path.isfile(\"tf_files/flower_photos.tgz\"):\n",
    "    !wget -P tf_files/ http://download.tensorflow.org/example_images/flower_photos.tgz\n",
    "\n",
    "#untar the file\n",
    "if not os.path.isdir(\"tf_files/flower_photos/\"):\n",
    "    print(\"Untarring file... \")\n",
    "    % cd tf_files/\n",
    "    !tar -zxf flower_photos.tgz\n",
    "    % cd $rootdir\n",
    "    print(\"Done!\")\n",
    "    !pwd\n",
    "if not os.path.isdir(\"tensorflow/\"):\n",
    "    ##Retrive the training code which can be found at https://github.com/tensorflow/tensorflow\n",
    "    !git clone https://github.com/tensorflow/tensorflow\n",
    "\n",
    "if not os.path.isfile(\"tf_files/label_image.py\"):\n",
    "    !wget https://goo.gl/tx3dqg -O tf_files/label_image.py"
   ]
  },
  {
   "cell_type": "markdown",
   "metadata": {},
   "source": [
    "## Training Inception\n",
    "\n",
    "The bottlenecks for the flower photos have been prebuilt as they usually take around half an hour to make depending on your machine."
   ]
  },
  {
   "cell_type": "code",
   "execution_count": null,
   "metadata": {
    "collapsed": false
   },
   "outputs": [],
   "source": [
    "% cd $rootdir\n",
    "\n",
    "# The number of training steps to perform when retraining Inception\n",
    "training_steps = 500\n",
    "\n",
    "!python tensorflow/tensorflow/examples/image_retraining/retrain.py \\\n",
    "--bottleneck_dir=tf_files/bottlenecks \\\n",
    "--how_many_training_steps $training_steps \\\n",
    "--model_dir=tf_files/inception \\\n",
    "--output_graph=tf_files/retrained_graph.pb \\\n",
    "--output_labels=tf_files/retrained_labels.txt \\\n",
    "--image_dir tf_files/flower_photos"
   ]
  },
  {
   "cell_type": "markdown",
   "metadata": {},
   "source": [
    "## Classify an Image"
   ]
  },
  {
   "cell_type": "markdown",
   "metadata": {},
   "source": [
    "We have a test image called 'test.jpg' that can been found in the Practical_3 directory called. From looking at it we can see it's a dandelion but does our image classifer decide it's a dandelion too?"
   ]
  },
  {
   "cell_type": "code",
   "execution_count": null,
   "metadata": {
    "collapsed": false
   },
   "outputs": [],
   "source": [
    "from IPython.core.display import Image\n",
    "Image(filename='test.jpg', width=500, embed=True)"
   ]
  },
  {
   "cell_type": "code",
   "execution_count": null,
   "metadata": {
    "collapsed": false
   },
   "outputs": [],
   "source": [
    "% cd $rootdir\n",
    "\n",
    "# Use the script label_image.py\n",
    "!python tf_files/label_image.py test.jpg"
   ]
  },
  {
   "cell_type": "code",
   "execution_count": null,
   "metadata": {
    "collapsed": true
   },
   "outputs": [],
   "source": []
  }
 ],
 "metadata": {
  "kernelspec": {
   "display_name": "Python [conda root]",
   "language": "python",
   "name": "conda-root-py"
  },
  "language_info": {
   "codemirror_mode": {
    "name": "ipython",
    "version": 3
   },
   "file_extension": ".py",
   "mimetype": "text/x-python",
   "name": "python",
   "nbconvert_exporter": "python",
   "pygments_lexer": "ipython3",
   "version": "3.5.2"
  }
 },
 "nbformat": 4,
 "nbformat_minor": 2
}
