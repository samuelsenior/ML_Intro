{
 "cells": [
  {
   "cell_type": "markdown",
   "metadata": {},
   "source": [
    "# Regression"
   ]
  },
  {
   "cell_type": "markdown",
   "metadata": {},
   "source": [
    "Import the packages and modules that will be used throughout:"
   ]
  },
  {
   "cell_type": "code",
   "execution_count": 1,
   "metadata": {
    "collapsed": false
   },
   "outputs": [],
   "source": [
    "from sklearn.model_selection import train_test_split  # To split up the dataset\n",
    "from sklearn.preprocessing import scale               # To normalise the datasets\n",
    "from sklearn import linear_model  # For the linear and SGD models\n",
    "from sklearn import ensemble      # For the Extra Tree Recessor\n",
    "from sklearn import metrics       # For the R^2 scores\n",
    "from matplotlib import pyplot as plt\n",
    "import numpy as np"
   ]
  },
  {
   "cell_type": "markdown",
   "metadata": {},
   "source": [
    "## Saratoga House Prices"
   ]
  },
  {
   "cell_type": "markdown",
   "metadata": {},
   "source": [
    "The SaratogaHouses dataset contains the prices of houses in the Saratogo area, along with different features. This dataset is not part of the datasets that come with scikit-learn and can be found in the \"data\" directory as a comma-separated values format (cvs).\n",
    "\n",
    "Pandas can be used to read in cvs file formats easily. The code below reads in the Saratoga dataset and outputs it into four numpy arrays, the first two are the feaure_names and target_name and the second two are 'saratoga_X' and 'saratoga_y'.\n",
    "\n",
    "feature_names contains the names of the different features in the order they appear in the dataset. target_name contains the name of the target. saratoga_X contains the values for the features and saratoga_y contains the target values. In total there are six features and 1063 instances."
   ]
  },
  {
   "cell_type": "code",
   "execution_count": 2,
   "metadata": {
    "collapsed": false
   },
   "outputs": [
    {
     "name": "stdout",
     "output_type": "stream",
     "text": [
      "Feature Names: ['Living.Area' 'Baths' 'Bedrooms' 'Fireplace' 'Acres' 'Age'], Target Name: Price\n",
      "Shape of the dataset: (1063, 6)\n"
     ]
    }
   ],
   "source": [
    "import pandas as pd\n",
    "df = pd.read_csv('./data/SaratogaHouses.csv', header=0, sep=',')\n",
    "target_name = np.array(df.columns[0])\n",
    "feature_names = np.array(df.columns[1:])\n",
    "saratoga_y = np.array(df[\"Price\"])\n",
    "saratoga_X = np.array(df[feature_names])\n",
    "print(\"Feature Names: {}, Target Name: {}\".format(feature_names, target_name))\n",
    "print(\"Shape of the dataset: {}\".format(np.shape(saratoga_X)))"
   ]
  },
  {
   "cell_type": "markdown",
   "metadata": {},
   "source": [
    "### Preprocessing\n",
    "\n",
    "Looking at the head of the saratoga dataset, it can be seen that there is one feature, Fireplace, that is a string which takes the the value of \"N\" or \"Y\". As there are only two possible values it can take it can be transformed into a binary value of either 0 or 1.\n",
    "\n",
    "It can also be seen that the data types in the dataset are not all the same, so it is also needed to convert them all to the same type. Below they are converted to type np.float64."
   ]
  },
  {
   "cell_type": "code",
   "execution_count": 3,
   "metadata": {
    "collapsed": false
   },
   "outputs": [
    {
     "name": "stdout",
     "output_type": "stream",
     "text": [
      "Feature Values:\n",
      "[[1982 1.0 3 'N' 2.0 133]\n",
      " [1676 1.5 3 'Y' 0.38 14]\n",
      " [1694 2.0 3 'Y' 0.96 15]]\n",
      "Target Values:\n",
      "[142212 134865 118007]\n"
     ]
    }
   ],
   "source": [
    "print(\"Feature Values:\")\n",
    "print(saratoga_X[0:3,:])\n",
    "print(\"Target Values:\")\n",
    "print(saratoga_y[0:3])"
   ]
  },
  {
   "cell_type": "code",
   "execution_count": 4,
   "metadata": {
    "collapsed": false
   },
   "outputs": [
    {
     "name": "stdout",
     "output_type": "stream",
     "text": [
      "Feature Values:\n",
      "[[  1.98200000e+03   1.00000000e+00   3.00000000e+00   0.00000000e+00\n",
      "    2.00000000e+00   1.33000000e+02]\n",
      " [  1.67600000e+03   1.50000000e+00   3.00000000e+00   1.00000000e+00\n",
      "    3.80000000e-01   1.40000000e+01]\n",
      " [  1.69400000e+03   2.00000000e+00   3.00000000e+00   1.00000000e+00\n",
      "    9.60000000e-01   1.50000000e+01]]\n"
     ]
    }
   ],
   "source": [
    "saratoga_X[saratoga_X == \"N\"] = 0\n",
    "saratoga_X[saratoga_X == \"Y\"] = 1\n",
    "saratoga_X = saratoga_X.astype(np.float64)\n",
    "saratoga_y = saratoga_y.astype(np.float64)\n",
    "\n",
    "print(\"Feature Values:\")\n",
    "print(saratoga_X[0:3,:])"
   ]
  },
  {
   "cell_type": "markdown",
   "metadata": {},
   "source": [
    "We want to normalise our dataset and split it up into a training set and a testing set. The training set is used to train our models and the testing set is used to measure the accuracy of the different models."
   ]
  },
  {
   "cell_type": "code",
   "execution_count": 5,
   "metadata": {
    "collapsed": false
   },
   "outputs": [],
   "source": [
    "saratoga_X = scale(saratoga_X)\n",
    "X_train, X_test, y_train, y_test = train_test_split(saratoga_X, saratoga_y, test_size=0.25, random_state=0)"
   ]
  },
  {
   "cell_type": "markdown",
   "metadata": {},
   "source": [
    "### Plotting Different Features against the Target\n",
    "\n",
    "To get an idea of the behaviour of different features we can plot them against the taget."
   ]
  },
  {
   "cell_type": "code",
   "execution_count": 6,
   "metadata": {
    "collapsed": false
   },
   "outputs": [
    {
     "data": {
      "image/png": "[encoded data removed]",
      "text/plain": [
       "<matplotlib.figure.Figure at 0x10f8d2780>"
      ]
     },
     "metadata": {},
     "output_type": "display_data"
    }
   ],
   "source": [
    "fig, ((ax1), (ax2)) = plt.subplots(1, 2)\n",
    "ax1.scatter(X_train[:, 0], y_train)\n",
    "ax1.set_xlabel(\"{}\".format(feature_names[0]))\n",
    "ax1.set_ylabel(\"Target\")\n",
    "ax2.scatter(X_train[:, 3], y_train)\n",
    "ax2.set_xlabel(\"{}\".format(feature_names[3]))\n",
    "ax2.set_ylabel(\"Target\")\n",
    "fig.set_figheight(7)\n",
    "fig.set_figwidth(16)\n",
    "plt.show()"
   ]
  },
  {
   "cell_type": "markdown",
   "metadata": {},
   "source": [
    "It looks like there is a linear relationship between the Living Area and the target. For the Fireplace it's harder to make out a distinct trend, though it would be difficult to as it can only take two values."
   ]
  },
  {
   "cell_type": "markdown",
   "metadata": {},
   "source": [
    "### A simple Linear Regression Model for an Individual Feature\n",
    "\n",
    "To make a simple linear regression model for the average number of rooms against the target we firstly initialise a LinearRegression instance and then fit the feature data and target to it:"
   ]
  },
  {
   "cell_type": "code",
   "execution_count": 7,
   "metadata": {
    "collapsed": false
   },
   "outputs": [
    {
     "data": {
      "text/plain": [
       "LinearRegression(copy_X=True, fit_intercept=True, n_jobs=1, normalize=False)"
      ]
     },
     "execution_count": 7,
     "metadata": {},
     "output_type": "execute_result"
    }
   ],
   "source": [
    "regr_lin = linear_model.LinearRegression()\n",
    "regr_lin.fit(X_train[:, 0].reshape(-1, 1), y_train)"
   ]
  },
  {
   "cell_type": "markdown",
   "metadata": {},
   "source": [
    "The data for the average number of rooms is found in the 6th row and needs to be reshaped to make it a shape that the fit function in LinearRegression expects (1D arrays aren't allowed but as we're slicing the dataset that's what we would be trying to pass in if we didn't reshape it)."
   ]
  },
  {
   "cell_type": "markdown",
   "metadata": {},
   "source": [
    "Now we want to plot our orginal graph with the regression line to see how it looks. To do this we predict the target value over the range of the Living Area using the predict function found in our regression model and then plot that on top of our original graph:"
   ]
  },
  {
   "cell_type": "code",
   "execution_count": 8,
   "metadata": {
    "collapsed": false
   },
   "outputs": [
    {
     "data": {
      "image/png": "[encoded data removed]",
      "text/plain": [
       "<matplotlib.figure.Figure at 0x11315ea90>"
      ]
     },
     "metadata": {},
     "output_type": "display_data"
    }
   ],
   "source": [
    "target_prediction = regr_lin.predict(X_train[:, 0].reshape(-1, 1))\n",
    "\n",
    "fig, (ax1) = plt.subplots(1, 1)\n",
    "\n",
    "ax1.scatter(X_train[:, 0], y_train)\n",
    "ax1.plot(X_train[:, 0], target_prediction, color='red')\n",
    "ax1.set_xlabel(\"{}\".format(feature_names[0]))\n",
    "ax1.set_ylabel(\"Target\")\n",
    "\n",
    "fig.set_figheight(7)\n",
    "fig.set_figwidth(10)\n",
    "plt.show()"
   ]
  },
  {
   "cell_type": "markdown",
   "metadata": {},
   "source": [
    "This regression model seems to fit our data fairly well, though calculating the R-squared value would give a better idea of this."
   ]
  },
  {
   "cell_type": "code",
   "execution_count": 9,
   "metadata": {
    "collapsed": false
   },
   "outputs": [
    {
     "name": "stdout",
     "output_type": "stream",
     "text": [
      "R-sqaured value for training set: 0.581057512278\n",
      "R-sqaured value for testing set: 0.620103890984\n"
     ]
    }
   ],
   "source": [
    "print(\"R-sqaured value for training set:\",regr_lin.score(X_train[:, 0].reshape(-1, 1), y_train))\n",
    "print(\"R-sqaured value for testing set:\",regr_lin.score(X_test[:, 0].reshape(-1, 1), y_test))"
   ]
  },
  {
   "cell_type": "markdown",
   "metadata": {},
   "source": [
    "### A Linear Model Including all Features using SGD\n",
    "\n",
    "SGD is a linear model that tries to minimise the squared loss, as with LinearModel it can be found in the linear_model module.\n",
    "\n",
    "Below a function 'train_and_evaluate' is defined that takes in the regression mode, the training feature values, and the training target values and fits the inputted model to the data while printing the R-squared value. The SGD model is then passed in and fitted to the training data."
   ]
  },
  {
   "cell_type": "code",
   "execution_count": 10,
   "metadata": {
    "collapsed": false
   },
   "outputs": [],
   "source": [
    "def train_and_evaluate(regr, X_train, y_train):\n",
    "    regr.fit(X_train, y_train.reshape(-1, ))\n",
    "    print(\"R-sqaured value for training set:\",regr.score(X_train, y_train.reshape(-1, )))"
   ]
  },
  {
   "cell_type": "code",
   "execution_count": 11,
   "metadata": {
    "collapsed": false
   },
   "outputs": [
    {
     "name": "stdout",
     "output_type": "stream",
     "text": [
      "R-sqaured value for training set: 0.599263735403\n"
     ]
    }
   ],
   "source": [
    "regr_sgd = linear_model.SGDRegressor(loss='squared_loss', random_state=0)\n",
    "train_and_evaluate(regr_sgd, X_train, y_train)"
   ]
  },
  {
   "cell_type": "markdown",
   "metadata": {},
   "source": [
    "The coefficents for each feature (the $\\beta$ coefficients mentioned in the presentation) can be displayed, along with each feature name. The the R-squared value of the model can also be calculated for testing dataset, which is done below through defining a function for it."
   ]
  },
  {
   "cell_type": "code",
   "execution_count": 12,
   "metadata": {
    "collapsed": false
   },
   "outputs": [
    {
     "name": "stdout",
     "output_type": "stream",
     "text": [
      "Living.Area: 48073.28809301297\n",
      "Baths: 16999.075082882722\n",
      "Bedrooms: -1780.9420047956746\n",
      "Fireplace: 3831.361342045281\n",
      "Acres: 399.52885628715444\n",
      "Age: -4264.647113955914\n"
     ]
    }
   ],
   "source": [
    "for i in range(6):\n",
    "    print(\"{}: {}\".format(feature_names[i], regr_sgd.coef_[i]))"
   ]
  },
  {
   "cell_type": "code",
   "execution_count": 13,
   "metadata": {
    "collapsed": false
   },
   "outputs": [
    {
     "name": "stdout",
     "output_type": "stream",
     "text": [
      "R-sqaured value: 0.659 \n",
      "\n"
     ]
    }
   ],
   "source": [
    "def calculate_R2(X, y, regr):\n",
    "    y_pred = regr.predict(X)\n",
    "    print(\"R-sqaured value: {0:.3f}\".format(metrics.r2_score(y, y_pred)),\"\\n\")\n",
    "\n",
    "calculate_R2(X_test, y_test, regr_sgd)"
   ]
  },
  {
   "cell_type": "markdown",
   "metadata": {},
   "source": [
    "### An Extra Trees Model\n",
    "\n",
    "Now we make an Extra Tree regressor model with 100, fit it to the training data and observe the R-squared value for the training set."
   ]
  },
  {
   "cell_type": "code",
   "execution_count": 14,
   "metadata": {
    "collapsed": false
   },
   "outputs": [
    {
     "name": "stdout",
     "output_type": "stream",
     "text": [
      "R-sqaured value for training set: 0.999641382407\n"
     ]
    }
   ],
   "source": [
    "regr_et=ensemble.ExtraTreesRegressor(n_estimators=100, random_state=0)\n",
    "train_and_evaluate(regr_et, X_train, y_train)"
   ]
  },
  {
   "cell_type": "markdown",
   "metadata": {},
   "source": [
    "An function can be defined that prints the feature importances in order of their values and also plots them on a bar chart, along with their standard deviations, to give a visualisation of their values and associated errors. The R-squared value on the testing data can also be calculated to show how well the model fits are testing set."
   ]
  },
  {
   "cell_type": "code",
   "execution_count": 15,
   "metadata": {
    "collapsed": false
   },
   "outputs": [
    {
     "name": "stdout",
     "output_type": "stream",
     "text": [
      "Feature ranking:\n",
      "1. Living.Area (feature 0), Importance: 0.483739\n",
      "2. Baths (feature 1), Importance: 0.185377\n",
      "3. Age (feature 5), Importance: 0.111568\n",
      "4. Acres (feature 4), Importance: 0.090143\n",
      "5. Fireplace (feature 3), Importance: 0.065008\n",
      "6. Bedrooms (feature 2), Importance: 0.064165\n"
     ]
    },
    {
     "data": {
      "image/png": "[encoded data removed]",
      "text/plain": [
       "<matplotlib.figure.Figure at 0x1133c35c0>"
      ]
     },
     "metadata": {},
     "output_type": "display_data"
    }
   ],
   "source": [
    "def print_and_plot_feature_importance(X, regr, feature_names):\n",
    "    importances = regr.feature_importances_\n",
    "\n",
    "    std = np.std([tree.feature_importances_ for tree in regr.estimators_],\n",
    "                 axis=0)\n",
    "    indices = np.argsort(importances)[::-1]\n",
    "\n",
    "    # Print the feature in order of importance\n",
    "    print(\"Feature ranking:\")\n",
    "\n",
    "    for f in range(X.shape[1]):\n",
    "        print(\"%d. %s (feature %d), Importance: %f\" % (f + 1, feature_names[indices[f]], indices[f],\n",
    "                                                       importances[indices[f]]))\n",
    "\n",
    "    # Plot the feature importances\n",
    "    plt.figure(figsize=(16, 7))\n",
    "    plt.title(\"Feature importances\")\n",
    "    plt.bar(range(X.shape[1]), importances[indices],\n",
    "           color=\"r\", yerr=std[indices], align=\"center\")\n",
    "    plt.xticks(range(X.shape[1]), feature_names[indices])\n",
    "    plt.xlim([-1, X.shape[1]])\n",
    "    plt.show()\n",
    "    \n",
    "print_and_plot_feature_importance(X_train, regr_et, feature_names)"
   ]
  },
  {
   "cell_type": "code",
   "execution_count": 16,
   "metadata": {
    "collapsed": false
   },
   "outputs": [
    {
     "name": "stdout",
     "output_type": "stream",
     "text": [
      "R-sqaured value: 0.690 \n",
      "\n"
     ]
    }
   ],
   "source": [
    "calculate_R2(X_test, y_test, regr_et)"
   ]
  },
  {
   "cell_type": "markdown",
   "metadata": {},
   "source": [
    "## Boston House Prices\n",
    "\n",
    "Import and load the Boston dataset."
   ]
  },
  {
   "cell_type": "code",
   "execution_count": 17,
   "metadata": {
    "collapsed": false
   },
   "outputs": [],
   "source": [
    "from sklearn.datasets import load_boston\n",
    "boston = load_boston()"
   ]
  },
  {
   "cell_type": "markdown",
   "metadata": {},
   "source": [
    "The Boston dataset contains data for the house prices around the area of Boston as a target variable and different features that affect house prices, such as the crime rate, the average number of rooms, and so on. There are 506 entries in the dataset, each with 13 features.\n",
    "\n",
    "### Description of the Data Set\n",
    "\n",
    "A description of the dataset is provided and is useful to have a quick look at to get an idea of the set."
   ]
  },
  {
   "cell_type": "code",
   "execution_count": 18,
   "metadata": {
    "collapsed": false
   },
   "outputs": [
    {
     "name": "stdout",
     "output_type": "stream",
     "text": [
      "Boston House Prices dataset\n",
      "===========================\n",
      "\n",
      "Notes\n",
      "------\n",
      "Data Set Characteristics:  \n",
      "\n",
      "    :Number of Instances: 506 \n",
      "\n",
      "    :Number of Attributes: 13 numeric/categorical predictive\n",
      "    \n",
      "    :Median Value (attribute 14) is usually the target\n",
      "\n",
      "    :Attribute Information (in order):\n",
      "        - CRIM     per capita crime rate by town\n",
      "        - ZN       proportion of residential land zoned for lots over 25,000 sq.ft.\n",
      "        - INDUS    proportion of non-retail business acres per town\n",
      "        - CHAS     Charles River dummy variable (= 1 if tract bounds river; 0 otherwise)\n",
      "        - NOX      nitric oxides concentration (parts per 10 million)\n",
      "        - RM       average number of rooms per dwelling\n",
      "        - AGE      proportion of owner-occupied units built prior to 1940\n",
      "        - DIS      weighted distances to five Boston employment centres\n",
      "        - RAD      index of accessibility to radial highways\n",
      "        - TAX      full-value property-tax rate per $10,000\n",
      "        - PTRATIO  pupil-teacher ratio by town\n",
      "        - B        1000(Bk - 0.63)^2 where Bk is the proportion of blacks by town\n",
      "        - LSTAT    % lower status of the population\n",
      "        - MEDV     Median value of owner-occupied homes in $1000's\n",
      "\n",
      "    :Missing Attribute Values: None\n",
      "\n",
      "    :Creator: Harrison, D. and Rubinfeld, D.L.\n",
      "\n",
      "This is a copy of UCI ML housing dataset.\n",
      "http://archive.ics.uci.edu/ml/datasets/Housing\n",
      "\n",
      "\n",
      "This dataset was taken from the StatLib library which is maintained at Carnegie Mellon University.\n",
      "\n",
      "The Boston house-price data of Harrison, D. and Rubinfeld, D.L. 'Hedonic\n",
      "prices and the demand for clean air', J. Environ. Economics & Management,\n",
      "vol.5, 81-102, 1978.   Used in Belsley, Kuh & Welsch, 'Regression diagnostics\n",
      "...', Wiley, 1980.   N.B. Various transformations are used in the table on\n",
      "pages 244-261 of the latter.\n",
      "\n",
      "The Boston house-price data has been used in many machine learning papers that address regression\n",
      "problems.   \n",
      "     \n",
      "**References**\n",
      "\n",
      "   - Belsley, Kuh & Welsch, 'Regression diagnostics: Identifying Influential Data and Sources of Collinearity', Wiley, 1980. 244-261.\n",
      "   - Quinlan,R. (1993). Combining Instance-Based and Model-Based Learning. In Proceedings on the Tenth International Conference of Machine Learning, 236-243, University of Massachusetts, Amherst. Morgan Kaufmann.\n",
      "   - many more! (see http://archive.ics.uci.edu/ml/datasets/Housing)\n",
      "\n"
     ]
    }
   ],
   "source": [
    "print(boston.DESCR)"
   ]
  },
  {
   "cell_type": "markdown",
   "metadata": {},
   "source": [
    "### Working with the Dataset:\n",
    "\n",
    "The feature names are accessed through boston.feature_names, the feature values are accessed through boston.data, and the target values are accessed through boston.target"
   ]
  },
  {
   "cell_type": "markdown",
   "metadata": {},
   "source": [
    "## Tasks"
   ]
  },
  {
   "cell_type": "markdown",
   "metadata": {},
   "source": [
    "### Task 1a - Preprocessing\n",
    "\n",
    "Split the data into a training set and a testing set and normalise both sets."
   ]
  },
  {
   "cell_type": "code",
   "execution_count": null,
   "metadata": {
    "collapsed": false
   },
   "outputs": [],
   "source": []
  },
  {
   "cell_type": "markdown",
   "metadata": {},
   "source": [
    "### Task 1b - Plotting Features\n",
    "\n",
    "Plot some of the features against the target individually to get an idea of their behaviour. Remember to use scatter plots for the data points."
   ]
  },
  {
   "cell_type": "code",
   "execution_count": null,
   "metadata": {
    "collapsed": false
   },
   "outputs": [],
   "source": []
  },
  {
   "cell_type": "markdown",
   "metadata": {},
   "source": [
    "### Task 1c - Linear Regression Model\n",
    "\n",
    "Try to make a simple linear regression model for one of the features. Remeber to reshape the feature values with \".reshape(-1, 1)\" as it will be a 1D slice otherwise.\n",
    "\n",
    "Use the model to predict the target values and plot it ontop of the scatter plot to see how it looks."
   ]
  },
  {
   "cell_type": "code",
   "execution_count": null,
   "metadata": {
    "collapsed": false
   },
   "outputs": [],
   "source": []
  },
  {
   "cell_type": "markdown",
   "metadata": {},
   "source": [
    "### Task 1d - R-Squared Value\n",
    "\n",
    "Calculate the R-squared value for this simple linear model, what do they indicate?"
   ]
  },
  {
   "cell_type": "code",
   "execution_count": null,
   "metadata": {
    "collapsed": false
   },
   "outputs": [],
   "source": []
  },
  {
   "cell_type": "markdown",
   "metadata": {},
   "source": [
    "### Task 2a - Linear SGD Model\n",
    "\n",
    "Create a linear model for all the features of the dataset using a SGD Regressor model and the data that you have already preprocessed."
   ]
  },
  {
   "cell_type": "code",
   "execution_count": null,
   "metadata": {
    "collapsed": false
   },
   "outputs": [],
   "source": []
  },
  {
   "cell_type": "markdown",
   "metadata": {},
   "source": [
    "### Task 2b - R-Squared Value\n",
    "\n",
    "Calculate the R-squared value of this model on the testing set and compare it to that of the training set. Does this show any underfitting or overfitting effects?"
   ]
  },
  {
   "cell_type": "code",
   "execution_count": null,
   "metadata": {
    "collapsed": false
   },
   "outputs": [],
   "source": []
  },
  {
   "cell_type": "markdown",
   "metadata": {},
   "source": [
    "### Task 3a - Extra Trees Regressor Model\n",
    "\n",
    "Use the data that you previously split and normalised to make an Extra Trees model for the dataset."
   ]
  },
  {
   "cell_type": "code",
   "execution_count": null,
   "metadata": {
    "collapsed": false
   },
   "outputs": [],
   "source": []
  },
  {
   "cell_type": "markdown",
   "metadata": {},
   "source": [
    "### Task 3b - Feature Importance\n",
    "\n",
    "Determine the feature importances and plot them on a bar chart with their standard deviations to show their respecitve errors."
   ]
  },
  {
   "cell_type": "code",
   "execution_count": null,
   "metadata": {
    "collapsed": false
   },
   "outputs": [],
   "source": []
  },
  {
   "cell_type": "markdown",
   "metadata": {},
   "source": [
    "### Task 3c - R-Squared Value\n",
    "\n",
    "Calculate the R-squared value of the Extra Tree model using the testing dataset and compare it to that of the training set and the R-squared value from the SGD model. How do the two models compare?"
   ]
  },
  {
   "cell_type": "code",
   "execution_count": null,
   "metadata": {
    "collapsed": false
   },
   "outputs": [],
   "source": []
  },
  {
   "cell_type": "markdown",
   "metadata": {},
   "source": [
    "## Further Tasks\n",
    "\n",
    "Make a new Extra Tree model like that in Task 3 and vary the number of trees, documenting the R-squared values and observing how the feature importances change. Plot the R-squared values against the number of trees to see if there's a trend in how the R-squared value changes.\n",
    "\n",
    "Use the feature importances from Task 2 to select and remove features that you deem to not be important enough, while trying to avoid underfitting and overfitting. Make another Extra Tree model using only the remaining features and compare R-squared values to the Extra Tree model in Task 2.\n",
    "\n",
    "Look up what k-fold cross validation is and implement a k-fold cross validation for k=5 folds. In the same style as the R-squared values, implement a score for the kfold values. (hint: scikit-learn has a kfold module.)"
   ]
  },
  {
   "cell_type": "code",
   "execution_count": null,
   "metadata": {
    "collapsed": true
   },
   "outputs": [],
   "source": []
  },
  {
   "cell_type": "markdown",
   "metadata": {},
   "source": [
    "## Further Extra Tasks (Seriously, you can take a brake already... )\n",
    "\n",
    "Implement a Random Tree Regressor model for the full set of features in the Boston dataset.\n",
    "\n",
    "Vary the numbers of trees and compare the R-squared values, feature importance values, and computational runtime with that of the Extra Tree model containing the same features. How do the two compare?\n",
    "\n",
    "Do the same but using the optimal feature selection that you determined before.\n",
    "\n",
    "Now do the same but for the Saratoga Houses dataset."
   ]
  },
  {
   "cell_type": "code",
   "execution_count": null,
   "metadata": {
    "collapsed": true
   },
   "outputs": [],
   "source": []
  }
 ],
 "metadata": {
  "kernelspec": {
   "display_name": "Python [conda root]",
   "language": "python",
   "name": "conda-root-py"
  },
  "language_info": {
   "codemirror_mode": {
    "name": "ipython",
    "version": 3
   },
   "file_extension": ".py",
   "mimetype": "text/x-python",
   "name": "python",
   "nbconvert_exporter": "python",
   "pygments_lexer": "ipython3",
   "version": "3.5.2"
  }
 },
 "nbformat": 4,
 "nbformat_minor": 2
}
