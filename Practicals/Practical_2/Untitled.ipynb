{
 "cells": [
  {
   "cell_type": "markdown",
   "metadata": {},
   "source": [
    "# Apples and Oranges"
   ]
  },
  {
   "cell_type": "code",
   "execution_count": 32,
   "metadata": {
    "collapsed": true
   },
   "outputs": [],
   "source": [
    "import numpy as np\n",
    "from sklearn import tree\n",
    "from IPython.core.display import Image\n",
    "import pydotplus\n",
    "import io"
   ]
  },
  {
   "cell_type": "markdown",
   "metadata": {},
   "source": [
    "In this example, lets assume we can't see the piece of fruit, but we only have access to the weights of the fruit and their texture, described as 'bumpy' or 'smooth'. Given some data, can we 'learn' which pieces of fruit are apples, and which ones are oranges with any degree of confidence? Yes we can!"
   ]
  },
  {
   "cell_type": "markdown",
   "metadata": {},
   "source": [
    "### Training Data"
   ]
  },
  {
   "cell_type": "code",
   "execution_count": 33,
   "metadata": {
    "collapsed": true
   },
   "outputs": [],
   "source": [
    "\"\"\"\n",
    "in features:\n",
    "    - index 0 : weight of the fruit (g)\n",
    "    - index 1 : (texture of fruit) binary, 0 = bumpy fruit, 1 = smooth fruit\n",
    "in labels :\n",
    "    - 0 = apple\n",
    "    - 1 = orange\n",
    "\"\"\"\n",
    "# here we create our features as a matrix\n",
    "X = [[140, 1],\n",
    "     [130, 1],\n",
    "     [150, 0],\n",
    "     [170, 0],\n",
    "     [145, 1],\n",
    "     [155, 0],\n",
    "     [152, 1],\n",
    "     [175, 0]]\n",
    "\n",
    "# here we create our labels as a vector\n",
    "y = [0, 0, 1, 1, 0, 1, 0, 1]\n",
    "# each index corresponds to the 2 features"
   ]
  },
  {
   "cell_type": "code",
   "execution_count": 34,
   "metadata": {
    "collapsed": true
   },
   "outputs": [],
   "source": [
    "def apples_oranges(features, labels):    \n",
    "    # Create our decision tree\n",
    "    clf = tree.DecisionTreeClassifier()\n",
    "    \n",
    "    # Fit the tree, using our features and labels (supervised learning)\n",
    "    clf.fit(features, labels)\n",
    "    \n",
    "    # Introduce a new fruit. We only know it's weight and whether\n",
    "    # it's smooth or bumpy, can we predict what it will be?\n",
    "    \n",
    "    # Here we have a piece of fruit weighing 125g and 'smooth' texture\n",
    "    fruit = [125, 1]\n",
    "    guess = clf.predict([fruit])\n",
    "    if guess[0] == 0:\n",
    "        print(\"We predict an apple!\")\n",
    "    else:\n",
    "        print(\"We predict an orange!\")\n",
    "    \n",
    "    \"\"\"\n",
    "    Insert your code here to try examples\n",
    "    \"\"\"\n",
    "    # -------------------------------------\n",
    "    \n",
    "    \n",
    "    # -------------------------------------\n",
    "    \n",
    "    return clf"
   ]
  },
  {
   "cell_type": "code",
   "execution_count": 44,
   "metadata": {
    "collapsed": false
   },
   "outputs": [],
   "source": [
    "def print_out_tree(clf, name=\"tree.png\"):\n",
    "    dot_data = io.StringIO()\n",
    "    tree.export_graphviz(clf, out_file=dot_data, feature_names=['Weight', 'Texture'])\n",
    "    graph = pydotplus.graph_from_dot_data(dot_data.getvalue())\n",
    "    graph.write_png(name)"
   ]
  },
  {
   "cell_type": "code",
   "execution_count": 45,
   "metadata": {
    "collapsed": false
   },
   "outputs": [
    {
     "name": "stdout",
     "output_type": "stream",
     "text": [
      "We predict an apple!\n"
     ]
    },
    {
     "data": {
      "image/png": "[encoded data removed]",
      "text/plain": [
       "<IPython.core.display.Image object>"
      ]
     },
     "execution_count": 45,
     "metadata": {},
     "output_type": "execute_result"
    }
   ],
   "source": [
    "atree = apples_oranges(X, y)\n",
    "print_out_tree(atree)\n",
    "Image(filename='tree.png')"
   ]
  },
  {
   "cell_type": "code",
   "execution_count": null,
   "metadata": {
    "collapsed": true
   },
   "outputs": [],
   "source": []
  }
 ],
 "metadata": {
  "kernelspec": {
   "display_name": "Python [conda root]",
   "language": "python",
   "name": "conda-root-py"
  },
  "language_info": {
   "codemirror_mode": {
    "name": "ipython",
    "version": 3
   },
   "file_extension": ".py",
   "mimetype": "text/x-python",
   "name": "python",
   "nbconvert_exporter": "python",
   "pygments_lexer": "ipython3",
   "version": "3.5.2"
  }
 },
 "nbformat": 4,
 "nbformat_minor": 2
}
