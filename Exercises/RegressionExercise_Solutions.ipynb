{
 "cells": [
  {
   "cell_type": "markdown",
   "metadata": {},
   "source": [
    "# Regression - With Solutions"
   ]
  },
  {
   "cell_type": "markdown",
   "metadata": {},
   "source": [
    "Import the packages and modules that will be used throughout:"
   ]
  },
  {
   "cell_type": "code",
   "execution_count": 1,
   "metadata": {
    "collapsed": false
   },
   "outputs": [
    {
     "name": "stderr",
     "output_type": "stream",
     "text": [
      "/Users/sms1n16/anaconda3/lib/python3.5/site-packages/sklearn/cross_validation.py:44: DeprecationWarning: This module was deprecated in version 0.18 in favor of the model_selection module into which all the refactored classes and functions are moved. Also note that the interface of the new CV iterators are different from that of this module. This module will be removed in 0.20.\n",
      "  \"This module will be removed in 0.20.\", DeprecationWarning)\n"
     ]
    }
   ],
   "source": [
    "from sklearn.cross_validation import train_test_split  # To split up the dataset\n",
    "from sklearn.preprocessing import StandardScaler       # To normalise the datasets\n",
    "from sklearn import linear_model  # For the linear and SGD models\n",
    "from sklearn import ensemble      # For the Extra Tree Recessor\n",
    "from sklearn import metrics       # For the R^2 scores\n",
    "from matplotlib import pyplot as plt\n",
    "import numpy as np"
   ]
  },
  {
   "cell_type": "markdown",
   "metadata": {},
   "source": [
    "## Saratoga House Prices"
   ]
  },
  {
   "cell_type": "markdown",
   "metadata": {},
   "source": [
    "The SaratogaHouses dataset contains the prices of houses in the Saratogo area, along with different features. This dataset is not part of the datasets that come with scikit-learn and can be found in the \"data\" directory as a Comma-separated values format (cvs).\n",
    "\n",
    "Python code is provided below that reads in the dataset from the csv format and outputs it into four variables, the first two are the feaure_names and target_name and the second two are 'saratoga_X' and 'saratoga_y'.\n",
    "\n",
    "feature_names contains the names of the different features in the order they appear in the dataset. target_name contains the name of the target. saratoga_X contains the values for the features and saratoga_y contains the target values. In total there are six features and 1063 instances."
   ]
  },
  {
   "cell_type": "code",
   "execution_count": 2,
   "metadata": {
    "collapsed": false
   },
   "outputs": [
    {
     "name": "stdout",
     "output_type": "stream",
     "text": [
      "Feature Names: ['Living.Area' 'Baths' 'Bedrooms' 'Fireplace' 'Acres' 'Age'], Target Name: Price\n",
      "Shape of the dataset: (1063, 6)\n"
     ]
    }
   ],
   "source": [
    "import csv\n",
    "with open('../data/SaratogaHouses.csv', 'rt') as csvfile:\n",
    "    saratoga_reader = csv.reader(csvfile, delimiter=',', quotechar='\"')\n",
    "    \n",
    "    # The first rwo contains the feature names\n",
    "    row = next(saratoga_reader)\n",
    "    feature_names = np.array(row[1:])\n",
    "    target_name = np.array(row[0])\n",
    "   \n",
    "    # The rest of the file contains the target values in the first\n",
    "    # column and the feature values in the others\n",
    "    saratoga_X, saratoga_y = [], []\n",
    "    for row in saratoga_reader:\n",
    "        saratoga_X.append(row[1:])\n",
    "        saratoga_y.append(row[0])\n",
    "   \n",
    "    saratoga_X = np.array(saratoga_X)\n",
    "    saratoga_y = np.array(saratoga_y)\n",
    "\n",
    "print(\"Feature Names: {}, Target Name: {}\".format(feature_names, target_name))\n",
    "print(\"Shape of the dataset: {}\".format(np.shape(saratoga_X)))"
   ]
  },
  {
   "cell_type": "markdown",
   "metadata": {},
   "source": [
    "### Preprocessing\n",
    "\n",
    "Looking at the head of the saratoga dataset, it can be seen that there is one feature, Fireplace, that is a string which takes the the value of \"N\" or \"Y\". As there are only two possible values it can take it can be transformed into a binary value of either 0 or 1.\n",
    "\n",
    "It can also be seen that the data types in the dataset are not all the same, so it is also needed to convert them all to the same type. Below they are converted to type np.float64."
   ]
  },
  {
   "cell_type": "code",
   "execution_count": 3,
   "metadata": {
    "collapsed": false
   },
   "outputs": [
    {
     "name": "stdout",
     "output_type": "stream",
     "text": [
      "Feature Values:\n",
      "[['1982' '1' '3' 'N' '2' '133']\n",
      " ['1676' '1.5' '3' 'Y' '0.38' '14']\n",
      " ['1694' '2' '3' 'Y' '0.96' '15']]\n",
      "Target Values:\n",
      "['142212' '134865' '118007']\n"
     ]
    }
   ],
   "source": [
    "print(\"Feature Values:\")\n",
    "print(saratoga_X[0:3,:])\n",
    "print(\"Target Values:\")\n",
    "print(saratoga_y[0:3])"
   ]
  },
  {
   "cell_type": "code",
   "execution_count": 4,
   "metadata": {
    "collapsed": false
   },
   "outputs": [
    {
     "name": "stdout",
     "output_type": "stream",
     "text": [
      "Feature Values:\n",
      "[[  1.98200000e+03   1.00000000e+00   3.00000000e+00   0.00000000e+00\n",
      "    2.00000000e+00   1.33000000e+02]\n",
      " [  1.67600000e+03   1.50000000e+00   3.00000000e+00   1.00000000e+00\n",
      "    3.80000000e-01   1.40000000e+01]\n",
      " [  1.69400000e+03   2.00000000e+00   3.00000000e+00   1.00000000e+00\n",
      "    9.60000000e-01   1.50000000e+01]]\n"
     ]
    }
   ],
   "source": [
    "saratoga_X[saratoga_X == \"N\"] = 0\n",
    "saratoga_X[saratoga_X == \"Y\"] = 1\n",
    "saratoga_X = saratoga_X.astype(np.float64)\n",
    "saratoga_y = saratoga_y.astype(np.float64)\n",
    "\n",
    "print(\"Feature Values:\")\n",
    "print(saratoga_X[0:3,:])"
   ]
  },
  {
   "cell_type": "markdown",
   "metadata": {},
   "source": [
    "Now we want to split our data into a training set and a testing set so that we can measure the accuracy of the different models later on."
   ]
  },
  {
   "cell_type": "code",
   "execution_count": 5,
   "metadata": {
    "collapsed": false
   },
   "outputs": [],
   "source": [
    "saratoga_X_train, saratoga_X_test, saratoga_y_train, saratoga_y_test = train_test_split(saratoga_X, saratoga_y,\n",
    "                                                                        test_size=0.25, random_state=33)"
   ]
  },
  {
   "cell_type": "markdown",
   "metadata": {},
   "source": [
    "Next we normalise both sets."
   ]
  },
  {
   "cell_type": "code",
   "execution_count": 6,
   "metadata": {
    "collapsed": false
   },
   "outputs": [],
   "source": [
    "def normalise(X, y):\n",
    "    standard_scaler = StandardScaler()\n",
    "    return standard_scaler.fit_transform(X), standard_scaler.fit_transform(y.reshape(-1, 1))\n",
    "\n",
    "X_train, y_train = normalise(saratoga_X_train, saratoga_y_train)\n",
    "X_test, y_test = normalise(saratoga_X_test, saratoga_y_test)"
   ]
  },
  {
   "cell_type": "markdown",
   "metadata": {},
   "source": [
    "### Plotting Different Features against the Target\n",
    "\n",
    "To get an idea of the behaviour of different features we can plot them against the taget."
   ]
  },
  {
   "cell_type": "code",
   "execution_count": 7,
   "metadata": {
    "collapsed": false
   },
   "outputs": [
    {
     "data": {
      "image/png": "[encoded data removed]",
      "text/plain": [
       "<matplotlib.figure.Figure at 0x10da5def0>"
      ]
     },
     "metadata": {},
     "output_type": "display_data"
    }
   ],
   "source": [
    "fig, ((ax1), (ax2)) = plt.subplots(1, 2)\n",
    "ax1.scatter(X_train[:, 0], y_train)\n",
    "ax1.set_xlabel(\"{}\".format(feature_names[0]))\n",
    "ax1.set_ylabel(\"Target\")\n",
    "ax2.scatter(X_train[:, 3], y_train)\n",
    "ax2.set_xlabel(\"{}\".format(feature_names[3]))\n",
    "ax2.set_ylabel(\"Target\")\n",
    "fig.set_figheight(7)\n",
    "fig.set_figwidth(16)\n",
    "plt.show()"
   ]
  },
  {
   "cell_type": "markdown",
   "metadata": {},
   "source": [
    "It looks like there is a linear relationship between the Living Area and the target. For the Fireplace it's harder to make out a distinct trend, though it would be difficult to as it can only take two values."
   ]
  },
  {
   "cell_type": "markdown",
   "metadata": {},
   "source": [
    "### A simple Linear Regression Model for an Individual Feature\n",
    "\n",
    "To make a simple linear regression model for the average number of rooms against the target we firstly initialise a LinearRegression instance and then fit the feature data and target to it:"
   ]
  },
  {
   "cell_type": "code",
   "execution_count": 8,
   "metadata": {
    "collapsed": false
   },
   "outputs": [
    {
     "data": {
      "text/plain": [
       "LinearRegression(copy_X=True, fit_intercept=True, n_jobs=1, normalize=False)"
      ]
     },
     "execution_count": 8,
     "metadata": {},
     "output_type": "execute_result"
    }
   ],
   "source": [
    "regr_lin = linear_model.LinearRegression()\n",
    "regr_lin.fit(X_train[:, 0].reshape(-1, 1), y_train)"
   ]
  },
  {
   "cell_type": "markdown",
   "metadata": {},
   "source": [
    "The data for the average number of rooms is found in the 6th row and needs to be reshaped to make it a shape that the fit function in LinearRegression expects (1D arrays aren't allowed but as we're slicing the dataset that's what we would be trying to pass in if we didn't reshape it)."
   ]
  },
  {
   "cell_type": "markdown",
   "metadata": {},
   "source": [
    "Now we want to plot our orginal graph with the regression line to see how it looks. To do this we predict the target value over the range of the Living Area using the predict function found in our regression model and then plot that on top of our original graph:"
   ]
  },
  {
   "cell_type": "code",
   "execution_count": 9,
   "metadata": {
    "collapsed": false
   },
   "outputs": [
    {
     "data": {
      "image/png": "[encoded data removed]",
      "text/plain": [
       "<matplotlib.figure.Figure at 0x110e38048>"
      ]
     },
     "metadata": {},
     "output_type": "display_data"
    }
   ],
   "source": [
    "target_prediction = regr_lin.predict(X_train[:, 0].reshape(-1, 1))\n",
    "\n",
    "fig, (ax1) = plt.subplots(1, 1)\n",
    "\n",
    "ax1.scatter(X_train[:, 0], y_train)\n",
    "ax1.plot(X_train[:, 0], target_prediction, color='red')\n",
    "ax1.set_xlabel(\"{}\".format(feature_names[0]))\n",
    "ax1.set_ylabel(\"Target\")\n",
    "\n",
    "fig.set_figheight(7)\n",
    "fig.set_figwidth(10)\n",
    "plt.show()"
   ]
  },
  {
   "cell_type": "markdown",
   "metadata": {},
   "source": [
    "This regression model seems to fit our data fairly well, though calculating the R-squared value would give a better idea of this."
   ]
  },
  {
   "cell_type": "code",
   "execution_count": 10,
   "metadata": {
    "collapsed": false
   },
   "outputs": [
    {
     "name": "stdout",
     "output_type": "stream",
     "text": [
      "R-sqaured value for training set: 0.607957450218\n",
      "R-sqaured value for testing set: 0.550496974177\n"
     ]
    }
   ],
   "source": [
    "print(\"R-sqaured value for training set:\",regr_lin.score(X_train[:, 0].reshape(-1, 1), y_train))\n",
    "print(\"R-sqaured value for testing set:\",regr_lin.score(X_test[:, 0].reshape(-1, 1), y_test))"
   ]
  },
  {
   "cell_type": "markdown",
   "metadata": {},
   "source": [
    "### A Linear Model Including all Features using SGD\n",
    "\n",
    "SGD is a linear model that tries to minimise the squared loss, as with LinearModel it can be found in the linear_model module.\n",
    "\n",
    "Below a function 'train_and_evaluate' is defined that takes in the regression mode, the training feature values, and the training target values and fits the inputted model to the data while printing the R-squared value. The SGD model is then passed in and fitted to the training data."
   ]
  },
  {
   "cell_type": "code",
   "execution_count": 11,
   "metadata": {
    "collapsed": false
   },
   "outputs": [],
   "source": [
    "def train_and_evaluate(regr, X_train, y_train):\n",
    "    regr.fit(X_train, y_train.reshape(-1, ))\n",
    "    print(\"R-sqaured value for training set:\",regr.score(X_train, y_train.reshape(-1, )))"
   ]
  },
  {
   "cell_type": "code",
   "execution_count": 12,
   "metadata": {
    "collapsed": false
   },
   "outputs": [
    {
     "name": "stdout",
     "output_type": "stream",
     "text": [
      "R-sqaured value for training set: 0.636831632687\n"
     ]
    }
   ],
   "source": [
    "regr_sgd = linear_model.SGDRegressor(loss='squared_loss', random_state=0)\n",
    "train_and_evaluate(regr_sgd, X_train, y_train)"
   ]
  },
  {
   "cell_type": "markdown",
   "metadata": {},
   "source": [
    "The coefficents for each feature (the $\\beta$ coefficients mentioned in the presentation) can be displayed, along with each feature name. The the R-squared value of the model can also be calculated for testing dataset, which is done below through defining a function for it."
   ]
  },
  {
   "cell_type": "code",
   "execution_count": 13,
   "metadata": {
    "collapsed": false
   },
   "outputs": [
    {
     "name": "stdout",
     "output_type": "stream",
     "text": [
      "Living.Area: 0.548358439349081\n",
      "Baths: 0.26595434552039166\n",
      "Bedrooms: -0.025021217964122763\n",
      "Fireplace: 0.03667493182880314\n",
      "Acres: 0.05088763732164522\n",
      "Age: -0.025106672760687107\n"
     ]
    }
   ],
   "source": [
    "for i in range(6):\n",
    "    print(\"{}: {}\".format(feature_names[i], regr_sgd.coef_[i]))"
   ]
  },
  {
   "cell_type": "code",
   "execution_count": 14,
   "metadata": {
    "collapsed": false
   },
   "outputs": [
    {
     "name": "stdout",
     "output_type": "stream",
     "text": [
      "R-sqaured value: 0.548 \n",
      "\n"
     ]
    }
   ],
   "source": [
    "def calculate_R2(X, y, regr):\n",
    "    y_pred = regr.predict(X)\n",
    "    print(\"R-sqaured value: {0:.3f}\".format(metrics.r2_score(y, y_pred)),\"\\n\")\n",
    "\n",
    "calculate_R2(X_test, y_test, regr_sgd)"
   ]
  },
  {
   "cell_type": "markdown",
   "metadata": {},
   "source": [
    "### An Extra Trees Model\n",
    "\n",
    "Now we make an Extra Tree regressor model with 100, fit it to the training data and observe the R-squared value for the training set."
   ]
  },
  {
   "cell_type": "code",
   "execution_count": 15,
   "metadata": {
    "collapsed": false
   },
   "outputs": [
    {
     "name": "stdout",
     "output_type": "stream",
     "text": [
      "R-sqaured value for training set: 0.999843056007\n"
     ]
    }
   ],
   "source": [
    "regr_et=ensemble.ExtraTreesRegressor(n_estimators=100, random_state=0)\n",
    "train_and_evaluate(regr_et, X_train, y_train)"
   ]
  },
  {
   "cell_type": "markdown",
   "metadata": {},
   "source": [
    "An function can be defined that prints the feature importances in order of their values and also plots them on a bar chart, along with their standard deviations, to give a visualisation of their values and associated errors. The R-squared value on the testing data can also be calculated to show how well the model fits are testing set."
   ]
  },
  {
   "cell_type": "code",
   "execution_count": 16,
   "metadata": {
    "collapsed": false
   },
   "outputs": [
    {
     "name": "stdout",
     "output_type": "stream",
     "text": [
      "Feature ranking:\n",
      "1. Living.Area (feature 0), Importance: 0.480863\n",
      "2. Baths (feature 1), Importance: 0.232096\n",
      "3. Age (feature 5), Importance: 0.117726\n",
      "4. Acres (feature 4), Importance: 0.076905\n",
      "5. Bedrooms (feature 2), Importance: 0.052411\n",
      "6. Fireplace (feature 3), Importance: 0.039999\n"
     ]
    },
    {
     "data": {
      "image/png": "[encoded data removed]",
      "text/plain": [
       "<matplotlib.figure.Figure at 0x111260978>"
      ]
     },
     "metadata": {},
     "output_type": "display_data"
    }
   ],
   "source": [
    "def print_and_plot_feature_importance(X, regr, feature_names):\n",
    "    importances = regr.feature_importances_\n",
    "\n",
    "    std = np.std([tree.feature_importances_ for tree in regr.estimators_],\n",
    "                 axis=0)\n",
    "    indices = np.argsort(importances)[::-1]\n",
    "\n",
    "    # Print the feature in order of importance\n",
    "    print(\"Feature ranking:\")\n",
    "\n",
    "    for f in range(X.shape[1]):\n",
    "        print(\"%d. %s (feature %d), Importance: %f\" % (f + 1, feature_names[indices[f]], indices[f],\n",
    "                                                       importances[indices[f]]))\n",
    "\n",
    "    # Plot the feature importances\n",
    "    plt.figure(figsize=(16, 7))\n",
    "    plt.title(\"Feature importances\")\n",
    "    plt.bar(range(X.shape[1]), importances[indices],\n",
    "           color=\"r\", yerr=std[indices], align=\"center\")\n",
    "    plt.xticks(range(X.shape[1]), feature_names[indices])\n",
    "    plt.xlim([-1, X.shape[1]])\n",
    "    plt.show()\n",
    "    \n",
    "print_and_plot_feature_importance(X_train, regr_et, feature_names)"
   ]
  },
  {
   "cell_type": "code",
   "execution_count": 17,
   "metadata": {
    "collapsed": false
   },
   "outputs": [
    {
     "name": "stdout",
     "output_type": "stream",
     "text": [
      "R-sqaured value: 0.577 \n",
      "\n"
     ]
    }
   ],
   "source": [
    "calculate_R2(X_test, y_test, regr_et)"
   ]
  },
  {
   "cell_type": "markdown",
   "metadata": {},
   "source": [
    "## Boston House Prices\n",
    "\n",
    "Import and load the Boston dataset."
   ]
  },
  {
   "cell_type": "code",
   "execution_count": 18,
   "metadata": {
    "collapsed": false
   },
   "outputs": [],
   "source": [
    "from sklearn.datasets import load_boston\n",
    "boston = load_boston()"
   ]
  },
  {
   "cell_type": "markdown",
   "metadata": {},
   "source": [
    "The Boston dataset contains data for the house prices around the area of Boston as a target variable and different features that affect house prices, such as the crime rate, the average number of rooms, and so on. There are 506 entries in the dataset, each with 13 features.\n",
    "\n",
    "### Description of the Data Set\n",
    "\n",
    "A description of the dataset is provided and is useful to have a quick look at to get an idea of the set."
   ]
  },
  {
   "cell_type": "code",
   "execution_count": 19,
   "metadata": {
    "collapsed": false
   },
   "outputs": [
    {
     "name": "stdout",
     "output_type": "stream",
     "text": [
      "Boston House Prices dataset\n",
      "===========================\n",
      "\n",
      "Notes\n",
      "------\n",
      "Data Set Characteristics:  \n",
      "\n",
      "    :Number of Instances: 506 \n",
      "\n",
      "    :Number of Attributes: 13 numeric/categorical predictive\n",
      "    \n",
      "    :Median Value (attribute 14) is usually the target\n",
      "\n",
      "    :Attribute Information (in order):\n",
      "        - CRIM     per capita crime rate by town\n",
      "        - ZN       proportion of residential land zoned for lots over 25,000 sq.ft.\n",
      "        - INDUS    proportion of non-retail business acres per town\n",
      "        - CHAS     Charles River dummy variable (= 1 if tract bounds river; 0 otherwise)\n",
      "        - NOX      nitric oxides concentration (parts per 10 million)\n",
      "        - RM       average number of rooms per dwelling\n",
      "        - AGE      proportion of owner-occupied units built prior to 1940\n",
      "        - DIS      weighted distances to five Boston employment centres\n",
      "        - RAD      index of accessibility to radial highways\n",
      "        - TAX      full-value property-tax rate per $10,000\n",
      "        - PTRATIO  pupil-teacher ratio by town\n",
      "        - B        1000(Bk - 0.63)^2 where Bk is the proportion of blacks by town\n",
      "        - LSTAT    % lower status of the population\n",
      "        - MEDV     Median value of owner-occupied homes in $1000's\n",
      "\n",
      "    :Missing Attribute Values: None\n",
      "\n",
      "    :Creator: Harrison, D. and Rubinfeld, D.L.\n",
      "\n",
      "This is a copy of UCI ML housing dataset.\n",
      "http://archive.ics.uci.edu/ml/datasets/Housing\n",
      "\n",
      "\n",
      "This dataset was taken from the StatLib library which is maintained at Carnegie Mellon University.\n",
      "\n",
      "The Boston house-price data of Harrison, D. and Rubinfeld, D.L. 'Hedonic\n",
      "prices and the demand for clean air', J. Environ. Economics & Management,\n",
      "vol.5, 81-102, 1978.   Used in Belsley, Kuh & Welsch, 'Regression diagnostics\n",
      "...', Wiley, 1980.   N.B. Various transformations are used in the table on\n",
      "pages 244-261 of the latter.\n",
      "\n",
      "The Boston house-price data has been used in many machine learning papers that address regression\n",
      "problems.   \n",
      "     \n",
      "**References**\n",
      "\n",
      "   - Belsley, Kuh & Welsch, 'Regression diagnostics: Identifying Influential Data and Sources of Collinearity', Wiley, 1980. 244-261.\n",
      "   - Quinlan,R. (1993). Combining Instance-Based and Model-Based Learning. In Proceedings on the Tenth International Conference of Machine Learning, 236-243, University of Massachusetts, Amherst. Morgan Kaufmann.\n",
      "   - many more! (see http://archive.ics.uci.edu/ml/datasets/Housing)\n",
      "\n"
     ]
    }
   ],
   "source": [
    "print(boston.DESCR)"
   ]
  },
  {
   "cell_type": "markdown",
   "metadata": {},
   "source": [
    "### Working with the Dataset:\n",
    "\n",
    "The feature names are accessed through boston.feature_names, the feature values are accessed through boston.data, and the target values are accessed through boston.target"
   ]
  },
  {
   "cell_type": "markdown",
   "metadata": {},
   "source": [
    "## Tasks"
   ]
  },
  {
   "cell_type": "markdown",
   "metadata": {},
   "source": [
    "### Task 1a - Preprocessing\n",
    "\n",
    "Split the data into a training set and a testing set and normalise both sets."
   ]
  },
  {
   "cell_type": "code",
   "execution_count": 20,
   "metadata": {
    "collapsed": false
   },
   "outputs": [],
   "source": [
    "boston_train, boston_test, target_train, target_test = train_test_split(boston.data, boston.target,\n",
    "                                                                        test_size=0.25, random_state=33)\n",
    "\n",
    "X_B_train, y_B_train = normalise(boston_train, target_train)\n",
    "X_B_test, y_B_test = normalise(boston_test, target_test)"
   ]
  },
  {
   "cell_type": "markdown",
   "metadata": {},
   "source": [
    "### Task 1b - Plotting Features\n",
    "\n",
    "Plot some of the features against the target individually to get an idea of their behaviour. Remember to use scatter plots for the data points."
   ]
  },
  {
   "cell_type": "code",
   "execution_count": 21,
   "metadata": {
    "collapsed": false
   },
   "outputs": [
    {
     "data": {
      "image/png": "[encoded data removed]",
      "text/plain": [
       "<matplotlib.figure.Figure at 0x112827240>"
      ]
     },
     "metadata": {},
     "output_type": "display_data"
    }
   ],
   "source": [
    "fig, ((ax1), (ax2)) = plt.subplots(1, 2)\n",
    "\n",
    "ax1.scatter(X_B_train[:, 5], y_B_train)\n",
    "ax1.set_xlabel(\"Average Number of Rooms per Dwelling ({})\".format(boston.feature_names[5]))\n",
    "ax1.set_ylabel(\"Target\")\n",
    "                \n",
    "ax2.scatter(X_B_train[:, 1], y_B_train)\n",
    "ax2.set_xlabel(\"proportion of residential land zoned for lots over 25,000 sq.ft. ({})\".format(boston.feature_names[1]))\n",
    "ax2.set_ylabel(\"Target\")\n",
    "\n",
    "fig.set_figheight(7)\n",
    "fig.set_figwidth(16)\n",
    "plt.show()"
   ]
  },
  {
   "cell_type": "markdown",
   "metadata": {},
   "source": [
    "### Task 1c - Linear Regression Model\n",
    "\n",
    "Try to make a simple linear regression model for one of the features. Remeber to reshape the feature values with \".reshape(-1, 1)\" as it will be a 1D slice otherwise.\n",
    "\n",
    "Use the model to predict the target values and plot it ontop of the scatter plot to see how it looks."
   ]
  },
  {
   "cell_type": "code",
   "execution_count": 22,
   "metadata": {
    "collapsed": false
   },
   "outputs": [
    {
     "data": {
      "text/plain": [
       "LinearRegression(copy_X=True, fit_intercept=True, n_jobs=1, normalize=False)"
      ]
     },
     "execution_count": 22,
     "metadata": {},
     "output_type": "execute_result"
    }
   ],
   "source": [
    "regr_B_lin = linear_model.LinearRegression()\n",
    "regr_B_lin.fit(X_B_train[:, 5].reshape(-1, 1), y_B_train)"
   ]
  },
  {
   "cell_type": "code",
   "execution_count": 23,
   "metadata": {
    "collapsed": true
   },
   "outputs": [],
   "source": [
    "target_prediction = regr_B_lin.predict(X_B_train[:, 5].reshape(-1, 1))"
   ]
  },
  {
   "cell_type": "code",
   "execution_count": 24,
   "metadata": {
    "collapsed": false
   },
   "outputs": [
    {
     "data": {
      "image/png": "[encoded data removed]",
      "text/plain": [
       "<matplotlib.figure.Figure at 0x11147b160>"
      ]
     },
     "metadata": {},
     "output_type": "display_data"
    }
   ],
   "source": [
    "fig, (ax1) = plt.subplots(1, 1)\n",
    "\n",
    "ax1.scatter(X_B_train[:, 5], y_B_train)\n",
    "ax1.plot(X_B_train[:, 5], target_prediction, color='red')\n",
    "ax1.set_xlabel(\"Average Number of Rooms per Dwelling ({})\".format(boston.feature_names[5]))\n",
    "ax1.set_ylabel(\"Target\")\n",
    "\n",
    "fig.set_figheight(7)\n",
    "fig.set_figwidth(10)\n",
    "plt.show()"
   ]
  },
  {
   "cell_type": "markdown",
   "metadata": {},
   "source": [
    "### Task 1d - R-Squared Value\n",
    "\n",
    "Calculate the R-squared value for this simple linear model, what do they indicate?"
   ]
  },
  {
   "cell_type": "code",
   "execution_count": 25,
   "metadata": {
    "collapsed": false
   },
   "outputs": [
    {
     "name": "stdout",
     "output_type": "stream",
     "text": [
      "R-sqaured value for training set: 0.514763351163\n",
      "R-sqaured value for testing set: 0.383769418876\n"
     ]
    }
   ],
   "source": [
    "print(\"R-sqaured value for training set:\",regr_B_lin.score(X_B_train[:, 5].reshape(-1, 1), y_B_train))\n",
    "print(\"R-sqaured value for testing set:\",regr_B_lin.score(X_B_test[:, 5].reshape(-1, 1), y_B_test))"
   ]
  },
  {
   "cell_type": "markdown",
   "metadata": {},
   "source": [
    "### Task 2a - Linear SGD Model\n",
    "\n",
    "Create a linear model for all the features of the dataset using a SGD Regressor model and the data that you have already preprocessed."
   ]
  },
  {
   "cell_type": "code",
   "execution_count": 26,
   "metadata": {
    "collapsed": false
   },
   "outputs": [
    {
     "name": "stdout",
     "output_type": "stream",
     "text": [
      "R-sqaured value for training set: 0.745075858841\n"
     ]
    }
   ],
   "source": [
    "regr_B_sgd = linear_model.SGDRegressor(loss='squared_loss', random_state=0)\n",
    "train_and_evaluate(regr_B_sgd, X_B_train, y_B_train)"
   ]
  },
  {
   "cell_type": "markdown",
   "metadata": {},
   "source": [
    "### Task 2b - R-Squared Value\n",
    "\n",
    "Calculate the R-squared value of this model on the testing set and compare it to that of the training set. Does this show any underfitting or overfitting effects?"
   ]
  },
  {
   "cell_type": "code",
   "execution_count": 27,
   "metadata": {
    "collapsed": false
   },
   "outputs": [
    {
     "name": "stdout",
     "output_type": "stream",
     "text": [
      "R-sqaured value for training set: 0.745075858841\n",
      "R-sqaured value for testing set: 0.656227486053\n"
     ]
    }
   ],
   "source": [
    "print(\"R-sqaured value for training set:\",regr_B_sgd.score(X_B_train, y_B_train))\n",
    "print(\"R-sqaured value for testing set:\",regr_B_sgd.score(X_B_test, y_B_test))"
   ]
  },
  {
   "cell_type": "markdown",
   "metadata": {},
   "source": [
    "### Task 3a - Extra Trees Regressor Model\n",
    "\n",
    "Use the data that you previously split and normalised to make an Extra Trees model for the dataset."
   ]
  },
  {
   "cell_type": "code",
   "execution_count": 28,
   "metadata": {
    "collapsed": false
   },
   "outputs": [
    {
     "name": "stdout",
     "output_type": "stream",
     "text": [
      "R-sqaured value for training set: 1.0\n"
     ]
    }
   ],
   "source": [
    "regr_B_et=ensemble.ExtraTreesRegressor(n_estimators=100, random_state=0)\n",
    "train_and_evaluate(regr_B_et, X_B_train, y_B_train)"
   ]
  },
  {
   "cell_type": "markdown",
   "metadata": {},
   "source": [
    "### Task 3b - Feature Importance\n",
    "\n",
    "Determine the feature importances and plot them on a bar chart with their standard deviations to show their respecitve errors."
   ]
  },
  {
   "cell_type": "code",
   "execution_count": 29,
   "metadata": {
    "collapsed": false
   },
   "outputs": [
    {
     "name": "stdout",
     "output_type": "stream",
     "text": [
      "Feature ranking:\n",
      "1. RM (feature 5), Importance: 0.365538\n",
      "2. LSTAT (feature 12), Importance: 0.350291\n",
      "3. PTRATIO (feature 10), Importance: 0.052144\n",
      "4. NOX (feature 4), Importance: 0.035499\n",
      "5. TAX (feature 9), Importance: 0.035265\n",
      "6. INDUS (feature 2), Importance: 0.031711\n",
      "7. CRIM (feature 0), Importance: 0.029485\n",
      "8. DIS (feature 7), Importance: 0.026495\n",
      "9. CHAS (feature 3), Importance: 0.018437\n",
      "10. AGE (feature 6), Importance: 0.017948\n",
      "11. RAD (feature 8), Importance: 0.015073\n",
      "12. B (feature 11), Importance: 0.014746\n",
      "13. ZN (feature 1), Importance: 0.007368\n"
     ]
    },
    {
     "data": {
      "image/png": "[encoded data removed]",
      "text/plain": [
       "<matplotlib.figure.Figure at 0x11295b5f8>"
      ]
     },
     "metadata": {},
     "output_type": "display_data"
    }
   ],
   "source": [
    "print_and_plot_feature_importance(X_B_train, regr_B_et, boston.feature_names)"
   ]
  },
  {
   "cell_type": "markdown",
   "metadata": {},
   "source": [
    "### Task 3c - R-Squared Value\n",
    "\n",
    "Calculate the R-squared value of the Extra Tree model using the testing dataset and compare it to that of the training set and the R-squared value from the SGD model. How do the two models compare?"
   ]
  },
  {
   "cell_type": "code",
   "execution_count": 30,
   "metadata": {
    "collapsed": false
   },
   "outputs": [
    {
     "name": "stdout",
     "output_type": "stream",
     "text": [
      "R-sqaured value: 0.768 \n",
      "\n"
     ]
    }
   ],
   "source": [
    "calculate_R2(X_B_test, y_B_test, regr_B_et)"
   ]
  },
  {
   "cell_type": "markdown",
   "metadata": {},
   "source": [
    "## Further Tasks\n",
    "\n",
    "Make a new Extra Tree model like that in Task 3 and vary the number of trees, documenting the R-squared values and observing how the feature importances change. Plot the R-squared values against the number of trees to see if there's a trend in how the R-squared value changes.\n",
    "\n",
    "Use the feature importances from Task 2 to select and remove features that you deem to not be important enough, while trying to avoid underfitting and overfitting. Make another Extra Tree model using only the remaining features and compare R-squared values to the Extra Tree model in Task 2.\n",
    "\n",
    "Look up what k-fold cross validation is and implement a k-fold cross validation for k=5 folds. In the same style as the R-squared values, implement a score for the kfold values. (hint: scikit-learn has a kfold module.)"
   ]
  },
  {
   "cell_type": "code",
   "execution_count": null,
   "metadata": {
    "collapsed": true
   },
   "outputs": [],
   "source": []
  },
  {
   "cell_type": "markdown",
   "metadata": {},
   "source": [
    "## Further Extra Tasks (Seriously, you can take a brake already... )\n",
    "\n",
    "Implement a Random Tree Regressor model for the full set of features in the Boston dataset.\n",
    "\n",
    "Vary the numbers of trees and compare the R-squared values, feature importance values, and computational runtime with that of the Extra Tree model containing the same features. How do the two compare?\n",
    "\n",
    "Do the same but using the optimal feature selection that you determined before.\n",
    "\n",
    "Now do the same but for the Saratoga Houses dataset."
   ]
  },
  {
   "cell_type": "code",
   "execution_count": null,
   "metadata": {
    "collapsed": true
   },
   "outputs": [],
   "source": []
  }
 ],
 "metadata": {
  "kernelspec": {
   "display_name": "Python [conda root]",
   "language": "python",
   "name": "conda-root-py"
  },
  "language_info": {
   "codemirror_mode": {
    "name": "ipython",
    "version": 3
   },
   "file_extension": ".py",
   "mimetype": "text/x-python",
   "name": "python",
   "nbconvert_exporter": "python",
   "pygments_lexer": "ipython3",
   "version": "3.5.2"
  }
 },
 "nbformat": 4,
 "nbformat_minor": 2
}
